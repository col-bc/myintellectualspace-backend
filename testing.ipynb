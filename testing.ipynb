{
 "cells": [
  {
   "cell_type": "code",
   "execution_count": 9,
   "metadata": {},
   "outputs": [
    {
     "ename": "JSONDecodeError",
     "evalue": "[Errno Expecting value] : 0",
     "output_type": "error",
     "traceback": [
      "\u001b[0;31m---------------------------------------------------------------------------\u001b[0m",
      "\u001b[0;31mJSONDecodeError\u001b[0m                           Traceback (most recent call last)",
      "File \u001b[0;32m~/Code/sentiments/back/.venv/lib/python3.9/site-packages/requests/models.py:910\u001b[0m, in \u001b[0;36mResponse.json\u001b[0;34m(self, **kwargs)\u001b[0m\n\u001b[1;32m    <a href='file:///Users/colby/Code/sentiments/back/.venv/lib/python3.9/site-packages/requests/models.py?line=908'>909</a>\u001b[0m \u001b[39mtry\u001b[39;00m:\n\u001b[0;32m--> <a href='file:///Users/colby/Code/sentiments/back/.venv/lib/python3.9/site-packages/requests/models.py?line=909'>910</a>\u001b[0m     \u001b[39mreturn\u001b[39;00m complexjson\u001b[39m.\u001b[39;49mloads(\u001b[39mself\u001b[39;49m\u001b[39m.\u001b[39;49mtext, \u001b[39m*\u001b[39;49m\u001b[39m*\u001b[39;49mkwargs)\n\u001b[1;32m    <a href='file:///Users/colby/Code/sentiments/back/.venv/lib/python3.9/site-packages/requests/models.py?line=910'>911</a>\u001b[0m \u001b[39mexcept\u001b[39;00m JSONDecodeError \u001b[39mas\u001b[39;00m e:\n\u001b[1;32m    <a href='file:///Users/colby/Code/sentiments/back/.venv/lib/python3.9/site-packages/requests/models.py?line=911'>912</a>\u001b[0m     \u001b[39m# Catch JSON-related errors and raise as requests.JSONDecodeError\u001b[39;00m\n\u001b[1;32m    <a href='file:///Users/colby/Code/sentiments/back/.venv/lib/python3.9/site-packages/requests/models.py?line=912'>913</a>\u001b[0m     \u001b[39m# This aliases json.JSONDecodeError and simplejson.JSONDecodeError\u001b[39;00m\n",
      "File \u001b[0;32m/usr/local/Cellar/python@3.9/3.9.12/Frameworks/Python.framework/Versions/3.9/lib/python3.9/json/__init__.py:346\u001b[0m, in \u001b[0;36mloads\u001b[0;34m(s, cls, object_hook, parse_float, parse_int, parse_constant, object_pairs_hook, **kw)\u001b[0m\n\u001b[1;32m    <a href='file:///usr/local/Cellar/python%403.9/3.9.12/Frameworks/Python.framework/Versions/3.9/lib/python3.9/json/__init__.py?line=342'>343</a>\u001b[0m \u001b[39mif\u001b[39;00m (\u001b[39mcls\u001b[39m \u001b[39mis\u001b[39;00m \u001b[39mNone\u001b[39;00m \u001b[39mand\u001b[39;00m object_hook \u001b[39mis\u001b[39;00m \u001b[39mNone\u001b[39;00m \u001b[39mand\u001b[39;00m\n\u001b[1;32m    <a href='file:///usr/local/Cellar/python%403.9/3.9.12/Frameworks/Python.framework/Versions/3.9/lib/python3.9/json/__init__.py?line=343'>344</a>\u001b[0m         parse_int \u001b[39mis\u001b[39;00m \u001b[39mNone\u001b[39;00m \u001b[39mand\u001b[39;00m parse_float \u001b[39mis\u001b[39;00m \u001b[39mNone\u001b[39;00m \u001b[39mand\u001b[39;00m\n\u001b[1;32m    <a href='file:///usr/local/Cellar/python%403.9/3.9.12/Frameworks/Python.framework/Versions/3.9/lib/python3.9/json/__init__.py?line=344'>345</a>\u001b[0m         parse_constant \u001b[39mis\u001b[39;00m \u001b[39mNone\u001b[39;00m \u001b[39mand\u001b[39;00m object_pairs_hook \u001b[39mis\u001b[39;00m \u001b[39mNone\u001b[39;00m \u001b[39mand\u001b[39;00m \u001b[39mnot\u001b[39;00m kw):\n\u001b[0;32m--> <a href='file:///usr/local/Cellar/python%403.9/3.9.12/Frameworks/Python.framework/Versions/3.9/lib/python3.9/json/__init__.py?line=345'>346</a>\u001b[0m     \u001b[39mreturn\u001b[39;00m _default_decoder\u001b[39m.\u001b[39;49mdecode(s)\n\u001b[1;32m    <a href='file:///usr/local/Cellar/python%403.9/3.9.12/Frameworks/Python.framework/Versions/3.9/lib/python3.9/json/__init__.py?line=346'>347</a>\u001b[0m \u001b[39mif\u001b[39;00m \u001b[39mcls\u001b[39m \u001b[39mis\u001b[39;00m \u001b[39mNone\u001b[39;00m:\n",
      "File \u001b[0;32m/usr/local/Cellar/python@3.9/3.9.12/Frameworks/Python.framework/Versions/3.9/lib/python3.9/json/decoder.py:337\u001b[0m, in \u001b[0;36mJSONDecoder.decode\u001b[0;34m(self, s, _w)\u001b[0m\n\u001b[1;32m    <a href='file:///usr/local/Cellar/python%403.9/3.9.12/Frameworks/Python.framework/Versions/3.9/lib/python3.9/json/decoder.py?line=332'>333</a>\u001b[0m \u001b[39m\"\"\"Return the Python representation of ``s`` (a ``str`` instance\u001b[39;00m\n\u001b[1;32m    <a href='file:///usr/local/Cellar/python%403.9/3.9.12/Frameworks/Python.framework/Versions/3.9/lib/python3.9/json/decoder.py?line=333'>334</a>\u001b[0m \u001b[39mcontaining a JSON document).\u001b[39;00m\n\u001b[1;32m    <a href='file:///usr/local/Cellar/python%403.9/3.9.12/Frameworks/Python.framework/Versions/3.9/lib/python3.9/json/decoder.py?line=334'>335</a>\u001b[0m \n\u001b[1;32m    <a href='file:///usr/local/Cellar/python%403.9/3.9.12/Frameworks/Python.framework/Versions/3.9/lib/python3.9/json/decoder.py?line=335'>336</a>\u001b[0m \u001b[39m\"\"\"\u001b[39;00m\n\u001b[0;32m--> <a href='file:///usr/local/Cellar/python%403.9/3.9.12/Frameworks/Python.framework/Versions/3.9/lib/python3.9/json/decoder.py?line=336'>337</a>\u001b[0m obj, end \u001b[39m=\u001b[39m \u001b[39mself\u001b[39;49m\u001b[39m.\u001b[39;49mraw_decode(s, idx\u001b[39m=\u001b[39;49m_w(s, \u001b[39m0\u001b[39;49m)\u001b[39m.\u001b[39;49mend())\n\u001b[1;32m    <a href='file:///usr/local/Cellar/python%403.9/3.9.12/Frameworks/Python.framework/Versions/3.9/lib/python3.9/json/decoder.py?line=337'>338</a>\u001b[0m end \u001b[39m=\u001b[39m _w(s, end)\u001b[39m.\u001b[39mend()\n",
      "File \u001b[0;32m/usr/local/Cellar/python@3.9/3.9.12/Frameworks/Python.framework/Versions/3.9/lib/python3.9/json/decoder.py:355\u001b[0m, in \u001b[0;36mJSONDecoder.raw_decode\u001b[0;34m(self, s, idx)\u001b[0m\n\u001b[1;32m    <a href='file:///usr/local/Cellar/python%403.9/3.9.12/Frameworks/Python.framework/Versions/3.9/lib/python3.9/json/decoder.py?line=353'>354</a>\u001b[0m \u001b[39mexcept\u001b[39;00m \u001b[39mStopIteration\u001b[39;00m \u001b[39mas\u001b[39;00m err:\n\u001b[0;32m--> <a href='file:///usr/local/Cellar/python%403.9/3.9.12/Frameworks/Python.framework/Versions/3.9/lib/python3.9/json/decoder.py?line=354'>355</a>\u001b[0m     \u001b[39mraise\u001b[39;00m JSONDecodeError(\u001b[39m\"\u001b[39m\u001b[39mExpecting value\u001b[39m\u001b[39m\"\u001b[39m, s, err\u001b[39m.\u001b[39mvalue) \u001b[39mfrom\u001b[39;00m \u001b[39mNone\u001b[39m\n\u001b[1;32m    <a href='file:///usr/local/Cellar/python%403.9/3.9.12/Frameworks/Python.framework/Versions/3.9/lib/python3.9/json/decoder.py?line=355'>356</a>\u001b[0m \u001b[39mreturn\u001b[39;00m obj, end\n",
      "\u001b[0;31mJSONDecodeError\u001b[0m: Expecting value: line 1 column 1 (char 0)",
      "\nDuring handling of the above exception, another exception occurred:\n",
      "\u001b[0;31mJSONDecodeError\u001b[0m                           Traceback (most recent call last)",
      "\u001b[1;32m/Users/colby/Code/myintellectualspace-back/testing.ipynb Cell 1'\u001b[0m in \u001b[0;36m<cell line: 16>\u001b[0;34m()\u001b[0m\n\u001b[1;32m      <a href='vscode-notebook-cell:/Users/colby/Code/myintellectualspace-back/testing.ipynb#ch0000000?line=4'>5</a>\u001b[0m data \u001b[39m=\u001b[39m {\n\u001b[1;32m      <a href='vscode-notebook-cell:/Users/colby/Code/myintellectualspace-back/testing.ipynb#ch0000000?line=5'>6</a>\u001b[0m     \u001b[39m'\u001b[39m\u001b[39mfirst_name\u001b[39m\u001b[39m'\u001b[39m: \u001b[39m'\u001b[39m\u001b[39mColby\u001b[39m\u001b[39m'\u001b[39m,\n\u001b[1;32m      <a href='vscode-notebook-cell:/Users/colby/Code/myintellectualspace-back/testing.ipynb#ch0000000?line=6'>7</a>\u001b[0m     \u001b[39m'\u001b[39m\u001b[39mlast_name\u001b[39m\u001b[39m'\u001b[39m: \u001b[39m'\u001b[39m\u001b[39mCooper\u001b[39m\u001b[39m'\u001b[39m,\n\u001b[0;32m   (...)\u001b[0m\n\u001b[1;32m     <a href='vscode-notebook-cell:/Users/colby/Code/myintellectualspace-back/testing.ipynb#ch0000000?line=9'>10</a>\u001b[0m     \u001b[39m'\u001b[39m\u001b[39mprofile\u001b[39m\u001b[39m'\u001b[39m: \u001b[39m'\u001b[39m\u001b[39mAdmin\u001b[39m\u001b[39m'\u001b[39m,\n\u001b[1;32m     <a href='vscode-notebook-cell:/Users/colby/Code/myintellectualspace-back/testing.ipynb#ch0000000?line=10'>11</a>\u001b[0m }\n\u001b[1;32m     <a href='vscode-notebook-cell:/Users/colby/Code/myintellectualspace-back/testing.ipynb#ch0000000?line=12'>13</a>\u001b[0m response \u001b[39m=\u001b[39m requests\u001b[39m.\u001b[39mpost(\n\u001b[1;32m     <a href='vscode-notebook-cell:/Users/colby/Code/myintellectualspace-back/testing.ipynb#ch0000000?line=13'>14</a>\u001b[0m     \u001b[39m'\u001b[39m\u001b[39mhttp://localhost:5000/api/user/update\u001b[39m\u001b[39m'\u001b[39m,\n\u001b[1;32m     <a href='vscode-notebook-cell:/Users/colby/Code/myintellectualspace-back/testing.ipynb#ch0000000?line=14'>15</a>\u001b[0m     json\u001b[39m=\u001b[39mjson\u001b[39m.\u001b[39mdumps(data), headers\u001b[39m=\u001b[39m{\u001b[39m'\u001b[39m\u001b[39mContent-Type\u001b[39m\u001b[39m'\u001b[39m: \u001b[39m'\u001b[39m\u001b[39mapplication/json\u001b[39m\u001b[39m'\u001b[39m})\n\u001b[0;32m---> <a href='vscode-notebook-cell:/Users/colby/Code/myintellectualspace-back/testing.ipynb#ch0000000?line=15'>16</a>\u001b[0m \u001b[39mprint\u001b[39m(response\u001b[39m.\u001b[39;49mjson())\n",
      "File \u001b[0;32m~/Code/sentiments/back/.venv/lib/python3.9/site-packages/requests/models.py:917\u001b[0m, in \u001b[0;36mResponse.json\u001b[0;34m(self, **kwargs)\u001b[0m\n\u001b[1;32m    <a href='file:///Users/colby/Code/sentiments/back/.venv/lib/python3.9/site-packages/requests/models.py?line=914'>915</a>\u001b[0m     \u001b[39mraise\u001b[39;00m RequestsJSONDecodeError(e\u001b[39m.\u001b[39mmessage)\n\u001b[1;32m    <a href='file:///Users/colby/Code/sentiments/back/.venv/lib/python3.9/site-packages/requests/models.py?line=915'>916</a>\u001b[0m \u001b[39melse\u001b[39;00m:\n\u001b[0;32m--> <a href='file:///Users/colby/Code/sentiments/back/.venv/lib/python3.9/site-packages/requests/models.py?line=916'>917</a>\u001b[0m     \u001b[39mraise\u001b[39;00m RequestsJSONDecodeError(e\u001b[39m.\u001b[39mmsg, e\u001b[39m.\u001b[39mdoc, e\u001b[39m.\u001b[39mpos)\n",
      "\u001b[0;31mJSONDecodeError\u001b[0m: [Errno Expecting value] : 0"
     ]
    }
   ],
   "source": [
    "import requests\n",
    "from database import db\n",
    "import json\n",
    "\n",
    "data = {\n",
    "    'first_name': 'Colby',\n",
    "    'last_name': 'Cooper',\n",
    "    'password_hash': 'Testing123',\n",
    "    'education_level': 'High School',\n",
    "    'profile': 'Admin',\n",
    "}\n",
    "\n",
    "response = requests.post(\n",
    "    'http://localhost:5000/api/user/update',\n",
    "    json=json.dumps(data), headers={'Content-Type': 'application/json'})\n",
    "print(response.json())\n"
   ]
  }
 ],
 "metadata": {
  "interpreter": {
   "hash": "9fd8818cc6e01cbfb33c78c693cd7c827c2f9df3129a9035dbd864c324ab0a17"
  },
  "kernelspec": {
   "display_name": "Python 3.9.12 ('.venv': venv)",
   "language": "python",
   "name": "python3"
  },
  "language_info": {
   "codemirror_mode": {
    "name": "ipython",
    "version": 3
   },
   "file_extension": ".py",
   "mimetype": "text/x-python",
   "name": "python",
   "nbconvert_exporter": "python",
   "pygments_lexer": "ipython3",
   "version": "3.9.12"
  },
  "orig_nbformat": 4
 },
 "nbformat": 4,
 "nbformat_minor": 2
}
