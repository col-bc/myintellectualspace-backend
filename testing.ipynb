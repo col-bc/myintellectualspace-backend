{
 "cells": [
  {
   "cell_type": "code",
   "execution_count": 5,
   "metadata": {},
   "outputs": [
    {
     "name": "stdout",
     "output_type": "stream",
     "text": [
      "[<UserAccount 1>]\n"
     ]
    }
   ],
   "source": [
    "from app import db\n",
    "from models.UserAccountModel import UserAccount\n",
    "\n",
    "users = UserAccount.query.all()\n",
    "print(users)\n"
   ]
  }
 ],
 "metadata": {
  "interpreter": {
   "hash": "9fd8818cc6e01cbfb33c78c693cd7c827c2f9df3129a9035dbd864c324ab0a17"
  },
  "kernelspec": {
   "display_name": "Python 3.9.12 ('.venv': venv)",
   "language": "python",
   "name": "python3"
  },
  "language_info": {
   "codemirror_mode": {
    "name": "ipython",
    "version": 3
   },
   "file_extension": ".py",
   "mimetype": "text/x-python",
   "name": "python",
   "nbconvert_exporter": "python",
   "pygments_lexer": "ipython3",
   "version": "3.9.12"
  },
  "orig_nbformat": 4
 },
 "nbformat": 4,
 "nbformat_minor": 2
}
