{
 "cells": [
  {
   "cell_type": "code",
   "execution_count": null,
   "metadata": {},
   "outputs": [],
   "source": [
    "import requests\n",
    "from database import db\n",
    "import json\n",
    "\n",
    "data = {\n",
    "    'first_name': 'Colby',\n",
    "    'last_name': 'Cooper',\n",
    "    'password_hash': 'Testing123',\n",
    "    'education_level': 'High School',\n",
    "    'profile': 'Admin',\n",
    "}\n",
    "\n",
    "response = requests.post(\n",
    "    'http://localhost:5000/api/user/update',\n",
    "    json=json.dumps(data), headers={'Content-Type': 'application/json'})\n",
    "print(response.json())\n"
   ]
  }
 ],
 "metadata": {
  "interpreter": {
   "hash": "9fd8818cc6e01cbfb33c78c693cd7c827c2f9df3129a9035dbd864c324ab0a17"
  },
  "kernelspec": {
   "display_name": "Python 3.9.12 ('.venv': venv)",
   "language": "python",
   "name": "python3"
  },
  "language_info": {
   "codemirror_mode": {
    "name": "ipython",
    "version": 3
   },
   "file_extension": ".py",
   "mimetype": "text/x-python",
   "name": "python",
   "nbconvert_exporter": "python",
   "pygments_lexer": "ipython3",
   "version": "3.9.12"
  },
  "orig_nbformat": 4
 },
 "nbformat": 4,
 "nbformat_minor": 2
}
